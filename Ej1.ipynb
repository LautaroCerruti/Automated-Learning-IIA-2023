{
  "nbformat": 4,
  "nbformat_minor": 0,
  "metadata": {
    "colab": {
      "provenance": []
    },
    "kernelspec": {
      "name": "python3",
      "display_name": "Python 3"
    },
    "language_info": {
      "name": "python"
    }
  },
  "cells": [
    {
      "cell_type": "code",
      "execution_count": null,
      "metadata": {
        "colab": {
          "base_uri": "https://localhost:8080/",
          "height": 73
        },
        "id": "49T0xkBgRBH1",
        "outputId": "286e076a-87a1-4ebf-c0e1-bcd22f18a357"
      },
      "outputs": [
        {
          "output_type": "display_data",
          "data": {
            "text/plain": [
              "<IPython.core.display.HTML object>"
            ],
            "text/html": [
              "\n",
              "     <input type=\"file\" id=\"files-9d9dbb65-cad5-4243-b5df-813cfa9f0921\" name=\"files[]\" multiple disabled\n",
              "        style=\"border:none\" />\n",
              "     <output id=\"result-9d9dbb65-cad5-4243-b5df-813cfa9f0921\">\n",
              "      Upload widget is only available when the cell has been executed in the\n",
              "      current browser session. Please rerun this cell to enable.\n",
              "      </output>\n",
              "      <script>// Copyright 2017 Google LLC\n",
              "//\n",
              "// Licensed under the Apache License, Version 2.0 (the \"License\");\n",
              "// you may not use this file except in compliance with the License.\n",
              "// You may obtain a copy of the License at\n",
              "//\n",
              "//      http://www.apache.org/licenses/LICENSE-2.0\n",
              "//\n",
              "// Unless required by applicable law or agreed to in writing, software\n",
              "// distributed under the License is distributed on an \"AS IS\" BASIS,\n",
              "// WITHOUT WARRANTIES OR CONDITIONS OF ANY KIND, either express or implied.\n",
              "// See the License for the specific language governing permissions and\n",
              "// limitations under the License.\n",
              "\n",
              "/**\n",
              " * @fileoverview Helpers for google.colab Python module.\n",
              " */\n",
              "(function(scope) {\n",
              "function span(text, styleAttributes = {}) {\n",
              "  const element = document.createElement('span');\n",
              "  element.textContent = text;\n",
              "  for (const key of Object.keys(styleAttributes)) {\n",
              "    element.style[key] = styleAttributes[key];\n",
              "  }\n",
              "  return element;\n",
              "}\n",
              "\n",
              "// Max number of bytes which will be uploaded at a time.\n",
              "const MAX_PAYLOAD_SIZE = 100 * 1024;\n",
              "\n",
              "function _uploadFiles(inputId, outputId) {\n",
              "  const steps = uploadFilesStep(inputId, outputId);\n",
              "  const outputElement = document.getElementById(outputId);\n",
              "  // Cache steps on the outputElement to make it available for the next call\n",
              "  // to uploadFilesContinue from Python.\n",
              "  outputElement.steps = steps;\n",
              "\n",
              "  return _uploadFilesContinue(outputId);\n",
              "}\n",
              "\n",
              "// This is roughly an async generator (not supported in the browser yet),\n",
              "// where there are multiple asynchronous steps and the Python side is going\n",
              "// to poll for completion of each step.\n",
              "// This uses a Promise to block the python side on completion of each step,\n",
              "// then passes the result of the previous step as the input to the next step.\n",
              "function _uploadFilesContinue(outputId) {\n",
              "  const outputElement = document.getElementById(outputId);\n",
              "  const steps = outputElement.steps;\n",
              "\n",
              "  const next = steps.next(outputElement.lastPromiseValue);\n",
              "  return Promise.resolve(next.value.promise).then((value) => {\n",
              "    // Cache the last promise value to make it available to the next\n",
              "    // step of the generator.\n",
              "    outputElement.lastPromiseValue = value;\n",
              "    return next.value.response;\n",
              "  });\n",
              "}\n",
              "\n",
              "/**\n",
              " * Generator function which is called between each async step of the upload\n",
              " * process.\n",
              " * @param {string} inputId Element ID of the input file picker element.\n",
              " * @param {string} outputId Element ID of the output display.\n",
              " * @return {!Iterable<!Object>} Iterable of next steps.\n",
              " */\n",
              "function* uploadFilesStep(inputId, outputId) {\n",
              "  const inputElement = document.getElementById(inputId);\n",
              "  inputElement.disabled = false;\n",
              "\n",
              "  const outputElement = document.getElementById(outputId);\n",
              "  outputElement.innerHTML = '';\n",
              "\n",
              "  const pickedPromise = new Promise((resolve) => {\n",
              "    inputElement.addEventListener('change', (e) => {\n",
              "      resolve(e.target.files);\n",
              "    });\n",
              "  });\n",
              "\n",
              "  const cancel = document.createElement('button');\n",
              "  inputElement.parentElement.appendChild(cancel);\n",
              "  cancel.textContent = 'Cancel upload';\n",
              "  const cancelPromise = new Promise((resolve) => {\n",
              "    cancel.onclick = () => {\n",
              "      resolve(null);\n",
              "    };\n",
              "  });\n",
              "\n",
              "  // Wait for the user to pick the files.\n",
              "  const files = yield {\n",
              "    promise: Promise.race([pickedPromise, cancelPromise]),\n",
              "    response: {\n",
              "      action: 'starting',\n",
              "    }\n",
              "  };\n",
              "\n",
              "  cancel.remove();\n",
              "\n",
              "  // Disable the input element since further picks are not allowed.\n",
              "  inputElement.disabled = true;\n",
              "\n",
              "  if (!files) {\n",
              "    return {\n",
              "      response: {\n",
              "        action: 'complete',\n",
              "      }\n",
              "    };\n",
              "  }\n",
              "\n",
              "  for (const file of files) {\n",
              "    const li = document.createElement('li');\n",
              "    li.append(span(file.name, {fontWeight: 'bold'}));\n",
              "    li.append(span(\n",
              "        `(${file.type || 'n/a'}) - ${file.size} bytes, ` +\n",
              "        `last modified: ${\n",
              "            file.lastModifiedDate ? file.lastModifiedDate.toLocaleDateString() :\n",
              "                                    'n/a'} - `));\n",
              "    const percent = span('0% done');\n",
              "    li.appendChild(percent);\n",
              "\n",
              "    outputElement.appendChild(li);\n",
              "\n",
              "    const fileDataPromise = new Promise((resolve) => {\n",
              "      const reader = new FileReader();\n",
              "      reader.onload = (e) => {\n",
              "        resolve(e.target.result);\n",
              "      };\n",
              "      reader.readAsArrayBuffer(file);\n",
              "    });\n",
              "    // Wait for the data to be ready.\n",
              "    let fileData = yield {\n",
              "      promise: fileDataPromise,\n",
              "      response: {\n",
              "        action: 'continue',\n",
              "      }\n",
              "    };\n",
              "\n",
              "    // Use a chunked sending to avoid message size limits. See b/62115660.\n",
              "    let position = 0;\n",
              "    do {\n",
              "      const length = Math.min(fileData.byteLength - position, MAX_PAYLOAD_SIZE);\n",
              "      const chunk = new Uint8Array(fileData, position, length);\n",
              "      position += length;\n",
              "\n",
              "      const base64 = btoa(String.fromCharCode.apply(null, chunk));\n",
              "      yield {\n",
              "        response: {\n",
              "          action: 'append',\n",
              "          file: file.name,\n",
              "          data: base64,\n",
              "        },\n",
              "      };\n",
              "\n",
              "      let percentDone = fileData.byteLength === 0 ?\n",
              "          100 :\n",
              "          Math.round((position / fileData.byteLength) * 100);\n",
              "      percent.textContent = `${percentDone}% done`;\n",
              "\n",
              "    } while (position < fileData.byteLength);\n",
              "  }\n",
              "\n",
              "  // All done.\n",
              "  yield {\n",
              "    response: {\n",
              "      action: 'complete',\n",
              "    }\n",
              "  };\n",
              "}\n",
              "\n",
              "scope.google = scope.google || {};\n",
              "scope.google.colab = scope.google.colab || {};\n",
              "scope.google.colab._files = {\n",
              "  _uploadFiles,\n",
              "  _uploadFilesContinue,\n",
              "};\n",
              "})(self);\n",
              "</script> "
            ]
          },
          "metadata": {}
        },
        {
          "output_type": "stream",
          "name": "stdout",
          "text": [
            "Saving credit_data.csv to credit_data.csv\n"
          ]
        }
      ],
      "source": [
        "from google.colab import files\n",
        "uploaded = files.upload()"
      ]
    },
    {
      "cell_type": "code",
      "source": [
        "import pandas as pd\n",
        "import io\n",
        "df = pd.read_csv(io.BytesIO(uploaded['credit_data.csv']))\n",
        "# Dataset is now stored in a Pandas Dataframe"
      ],
      "metadata": {
        "id": "KDmsqgdx_cQw"
      },
      "execution_count": null,
      "outputs": []
    },
    {
      "cell_type": "code",
      "source": [
        "target = df[\"class\"].values.tolist()\n",
        "feature_names = list(df.columns.values)[:-1]\n",
        "target_names= list(set(df[\"class\"].values.tolist()))"
      ],
      "metadata": {
        "id": "MdjHaIPWWwfb"
      },
      "execution_count": null,
      "outputs": []
    },
    {
      "cell_type": "code",
      "source": [
        "df = df.drop(columns=[\"class\"])\n",
        "data = df.to_numpy()"
      ],
      "metadata": {
        "id": "Pr8dzXfcY1Wn"
      },
      "execution_count": null,
      "outputs": []
    },
    {
      "cell_type": "code",
      "source": [
        "from sklearn.preprocessing import OrdinalEncoder\n",
        "enc = OrdinalEncoder()\n",
        "\n",
        "data = enc.fit_transform(data)"
      ],
      "metadata": {
        "id": "nb9iRG39ZoVp"
      },
      "execution_count": null,
      "outputs": []
    },
    {
      "cell_type": "code",
      "source": [
        "print(target.count('good'))\n",
        "print(target.count('bad'))"
      ],
      "metadata": {
        "colab": {
          "base_uri": "https://localhost:8080/"
        },
        "id": "Qr-IzDXl_naj",
        "outputId": "513c2ad1-23a5-440b-f084-2ca01336444b"
      },
      "execution_count": null,
      "outputs": [
        {
          "output_type": "stream",
          "name": "stdout",
          "text": [
            "700\n",
            "300\n"
          ]
        }
      ]
    },
    {
      "cell_type": "code",
      "source": [
        "import numpy as np\n",
        "from sklearn.model_selection import train_test_split\n",
        "\n",
        "data_train, data_test, target_train, target_test = train_test_split(data, target,test_size=0.1, random_state=0)"
      ],
      "metadata": {
        "id": "QP95z8U9bPlb"
      },
      "execution_count": null,
      "outputs": []
    },
    {
      "cell_type": "code",
      "source": [
        "from sklearn.tree import DecisionTreeClassifier\n",
        "\n",
        "tree_model = DecisionTreeClassifier()\n",
        "\n",
        "tree_model.fit(data_train, target_train)"
      ],
      "metadata": {
        "colab": {
          "base_uri": "https://localhost:8080/",
          "height": 75
        },
        "id": "whdKQWD4cvkk",
        "outputId": "99b4a5fb-1ea2-4409-b4a6-05cfd7d55034"
      },
      "execution_count": null,
      "outputs": [
        {
          "output_type": "execute_result",
          "data": {
            "text/plain": [
              "DecisionTreeClassifier()"
            ],
            "text/html": [
              "<style>#sk-container-id-5 {color: black;background-color: white;}#sk-container-id-5 pre{padding: 0;}#sk-container-id-5 div.sk-toggleable {background-color: white;}#sk-container-id-5 label.sk-toggleable__label {cursor: pointer;display: block;width: 100%;margin-bottom: 0;padding: 0.3em;box-sizing: border-box;text-align: center;}#sk-container-id-5 label.sk-toggleable__label-arrow:before {content: \"▸\";float: left;margin-right: 0.25em;color: #696969;}#sk-container-id-5 label.sk-toggleable__label-arrow:hover:before {color: black;}#sk-container-id-5 div.sk-estimator:hover label.sk-toggleable__label-arrow:before {color: black;}#sk-container-id-5 div.sk-toggleable__content {max-height: 0;max-width: 0;overflow: hidden;text-align: left;background-color: #f0f8ff;}#sk-container-id-5 div.sk-toggleable__content pre {margin: 0.2em;color: black;border-radius: 0.25em;background-color: #f0f8ff;}#sk-container-id-5 input.sk-toggleable__control:checked~div.sk-toggleable__content {max-height: 200px;max-width: 100%;overflow: auto;}#sk-container-id-5 input.sk-toggleable__control:checked~label.sk-toggleable__label-arrow:before {content: \"▾\";}#sk-container-id-5 div.sk-estimator input.sk-toggleable__control:checked~label.sk-toggleable__label {background-color: #d4ebff;}#sk-container-id-5 div.sk-label input.sk-toggleable__control:checked~label.sk-toggleable__label {background-color: #d4ebff;}#sk-container-id-5 input.sk-hidden--visually {border: 0;clip: rect(1px 1px 1px 1px);clip: rect(1px, 1px, 1px, 1px);height: 1px;margin: -1px;overflow: hidden;padding: 0;position: absolute;width: 1px;}#sk-container-id-5 div.sk-estimator {font-family: monospace;background-color: #f0f8ff;border: 1px dotted black;border-radius: 0.25em;box-sizing: border-box;margin-bottom: 0.5em;}#sk-container-id-5 div.sk-estimator:hover {background-color: #d4ebff;}#sk-container-id-5 div.sk-parallel-item::after {content: \"\";width: 100%;border-bottom: 1px solid gray;flex-grow: 1;}#sk-container-id-5 div.sk-label:hover label.sk-toggleable__label {background-color: #d4ebff;}#sk-container-id-5 div.sk-serial::before {content: \"\";position: absolute;border-left: 1px solid gray;box-sizing: border-box;top: 0;bottom: 0;left: 50%;z-index: 0;}#sk-container-id-5 div.sk-serial {display: flex;flex-direction: column;align-items: center;background-color: white;padding-right: 0.2em;padding-left: 0.2em;position: relative;}#sk-container-id-5 div.sk-item {position: relative;z-index: 1;}#sk-container-id-5 div.sk-parallel {display: flex;align-items: stretch;justify-content: center;background-color: white;position: relative;}#sk-container-id-5 div.sk-item::before, #sk-container-id-5 div.sk-parallel-item::before {content: \"\";position: absolute;border-left: 1px solid gray;box-sizing: border-box;top: 0;bottom: 0;left: 50%;z-index: -1;}#sk-container-id-5 div.sk-parallel-item {display: flex;flex-direction: column;z-index: 1;position: relative;background-color: white;}#sk-container-id-5 div.sk-parallel-item:first-child::after {align-self: flex-end;width: 50%;}#sk-container-id-5 div.sk-parallel-item:last-child::after {align-self: flex-start;width: 50%;}#sk-container-id-5 div.sk-parallel-item:only-child::after {width: 0;}#sk-container-id-5 div.sk-dashed-wrapped {border: 1px dashed gray;margin: 0 0.4em 0.5em 0.4em;box-sizing: border-box;padding-bottom: 0.4em;background-color: white;}#sk-container-id-5 div.sk-label label {font-family: monospace;font-weight: bold;display: inline-block;line-height: 1.2em;}#sk-container-id-5 div.sk-label-container {text-align: center;}#sk-container-id-5 div.sk-container {/* jupyter's `normalize.less` sets `[hidden] { display: none; }` but bootstrap.min.css set `[hidden] { display: none !important; }` so we also need the `!important` here to be able to override the default hidden behavior on the sphinx rendered scikit-learn.org. See: https://github.com/scikit-learn/scikit-learn/issues/21755 */display: inline-block !important;position: relative;}#sk-container-id-5 div.sk-text-repr-fallback {display: none;}</style><div id=\"sk-container-id-5\" class=\"sk-top-container\"><div class=\"sk-text-repr-fallback\"><pre>DecisionTreeClassifier()</pre><b>In a Jupyter environment, please rerun this cell to show the HTML representation or trust the notebook. <br />On GitHub, the HTML representation is unable to render, please try loading this page with nbviewer.org.</b></div><div class=\"sk-container\" hidden><div class=\"sk-item\"><div class=\"sk-estimator sk-toggleable\"><input class=\"sk-toggleable__control sk-hidden--visually\" id=\"sk-estimator-id-5\" type=\"checkbox\" checked><label for=\"sk-estimator-id-5\" class=\"sk-toggleable__label sk-toggleable__label-arrow\">DecisionTreeClassifier</label><div class=\"sk-toggleable__content\"><pre>DecisionTreeClassifier()</pre></div></div></div></div></div>"
            ]
          },
          "metadata": {},
          "execution_count": 36
        }
      ]
    },
    {
      "cell_type": "markdown",
      "source": [
        "## Accuracy Sobre el conjunto de prueba"
      ],
      "metadata": {
        "id": "bfxQvwshduWJ"
      }
    },
    {
      "cell_type": "code",
      "source": [
        "from sklearn.metrics import accuracy_score\n",
        "\n",
        "target_predicted = tree_model.predict(data_test)\n",
        "\n",
        "accuracy = accuracy_score(target_test, target_predicted)\n",
        "\n",
        "print(\"El valor de accuracy obtenido es: {}\".format(accuracy))"
      ],
      "metadata": {
        "colab": {
          "base_uri": "https://localhost:8080/"
        },
        "id": "Ccluw81WdXCo",
        "outputId": "752452ce-ebfc-4d62-df98-bc176ebdfa17"
      },
      "execution_count": null,
      "outputs": [
        {
          "output_type": "stream",
          "name": "stdout",
          "text": [
            "El valor de accuracy obtenido es: 0.69\n"
          ]
        }
      ]
    },
    {
      "cell_type": "markdown",
      "source": [
        "## Accuracy sobre el conjunto de entrenamiento"
      ],
      "metadata": {
        "id": "rCzUVwznd1yw"
      }
    },
    {
      "cell_type": "code",
      "source": [
        "target_predicted = tree_model.predict(data_train)\n",
        "\n",
        "accuracy = accuracy_score(target_train, target_predicted)\n",
        "\n",
        "print(\"El valor de accuracy obtenido es: {}\".format(accuracy))"
      ],
      "metadata": {
        "colab": {
          "base_uri": "https://localhost:8080/"
        },
        "id": "zheaRJ1Bd6VW",
        "outputId": "68db8f0c-63d9-4d09-a39b-a494d4ef9620"
      },
      "execution_count": null,
      "outputs": [
        {
          "output_type": "stream",
          "name": "stdout",
          "text": [
            "El valor de accuracy obtenido es: 1.0\n"
          ]
        }
      ]
    },
    {
      "cell_type": "markdown",
      "source": [
        "## Optimizar parámetros con GridSearchCV usando Accuracy"
      ],
      "metadata": {
        "id": "zRnBeByof8Er"
      }
    },
    {
      "cell_type": "code",
      "source": [
        "from sklearn.model_selection import GridSearchCV\n",
        "\n",
        "param_grid = {'max_depth' : range(20)[1:],\n",
        "              'min_samples_leaf': range(40)[1:],\n",
        "              'min_samples_split': range(20)[2:],\n",
        "              'criterion' :['gini', 'entropy']\n",
        "             }\n",
        "\n",
        "tree_clas = DecisionTreeClassifier()\n",
        "\n",
        "clf = GridSearchCV(estimator=tree_clas, param_grid=param_grid, scoring=\"accuracy\")\n",
        "clf.fit(data_train, target_train)\n",
        "\n",
        "final_model = clf.best_estimator_\n",
        "\n",
        "print(clf.best_params_)"
      ],
      "metadata": {
        "colab": {
          "base_uri": "https://localhost:8080/"
        },
        "id": "GrGmW1nNf7cp",
        "outputId": "eec8bfba-245d-4aec-94b8-977f50e0e3fb"
      },
      "execution_count": null,
      "outputs": [
        {
          "output_type": "stream",
          "name": "stdout",
          "text": [
            "{'criterion': 'gini', 'max_depth': 5, 'min_samples_leaf': 32, 'min_samples_split': 2}\n"
          ]
        }
      ]
    },
    {
      "cell_type": "code",
      "source": [
        "from sklearn.metrics import accuracy_score\n",
        "\n",
        "target_predicted = final_model.predict(data_test)\n",
        "\n",
        "accuracy = accuracy_score(target_test, target_predicted)\n",
        "\n",
        "print(\"El valor de accuracy obtenido es: {}\".format(accuracy))"
      ],
      "metadata": {
        "colab": {
          "base_uri": "https://localhost:8080/"
        },
        "id": "K26ut6qpHSBM",
        "outputId": "c6994f4e-47b5-4bb2-fb40-e35d9b8f91df"
      },
      "execution_count": null,
      "outputs": [
        {
          "output_type": "stream",
          "name": "stdout",
          "text": [
            "El valor de accuracy obtenido es: 0.76\n"
          ]
        }
      ]
    },
    {
      "cell_type": "code",
      "source": [
        "target_predicted = final_model.predict(data_train)\n",
        "\n",
        "accuracy = accuracy_score(target_train, target_predicted)\n",
        "\n",
        "print(\"El valor de accuracy obtenido es: {}\".format(accuracy))"
      ],
      "metadata": {
        "colab": {
          "base_uri": "https://localhost:8080/"
        },
        "id": "6AHL5omsHVSp",
        "outputId": "e29b4f4d-f812-46f1-b22d-c0d81f72d8ac"
      },
      "execution_count": null,
      "outputs": [
        {
          "output_type": "stream",
          "name": "stdout",
          "text": [
            "El valor de accuracy obtenido es: 0.7588888888888888\n"
          ]
        }
      ]
    },
    {
      "cell_type": "markdown",
      "source": [
        "## Poda por niveles"
      ],
      "metadata": {
        "id": "BC6BhwKvqolO"
      }
    },
    {
      "cell_type": "code",
      "source": [
        "from sklearn.tree._tree import TREE_LEAF\n",
        "from copy import deepcopy\n",
        "\n",
        "# Funcion para podar un árbol.\n",
        "\n",
        "def is_leaf(tree_model, node_id):\n",
        "  \"\"\"\n",
        "  Devuelve True si el nodo (node_id), pasado como\n",
        "  argumento, es un nodo hoja del arbol (tree_model).\n",
        "  Caso contrario retorna False.\n",
        "  \"\"\"\n",
        "  return (tree_model.tree_.children_left[node_id] == TREE_LEAF and\n",
        "          tree_model.tree_.children_right[node_id] == TREE_LEAF)\n",
        "\n",
        "\n",
        "def prune(tree_model, levels=1):\n",
        "  \"\"\"\n",
        "  Realiza la poda del arbol pasado como argumento, de forma recursiva, eliminando niveles del mismo.\n",
        "\n",
        "  Esta funcion replica el funcionamiento de su correspondiente par en Matlab:\n",
        "\n",
        "          prune(tree_model, 'level', levels)\n",
        "  \"\"\"\n",
        "  tree_model_copy = deepcopy(tree_model)\n",
        "\n",
        "  def recursive(tree_model, node_id):\n",
        "\n",
        "    if (is_leaf(tree_model, tree_model.tree_.children_left[node_id]) and\n",
        "        is_leaf(tree_model, tree_model.tree_.children_right[node_id])):\n",
        "      tree_model.tree_.children_left[node_id] = TREE_LEAF\n",
        "      tree_model.tree_.children_right[node_id] = TREE_LEAF\n",
        "\n",
        "    if tree_model.tree_.children_left[node_id] != TREE_LEAF:\n",
        "      recursive(tree_model, tree_model.tree_.children_left[node_id])\n",
        "      recursive(tree_model, tree_model.tree_.children_right[node_id])\n",
        "\n",
        "    return tree_model\n",
        "\n",
        "  for _ in range(levels):\n",
        "    tree_model_copy = recursive(tree_model_copy, 0)\n",
        "\n",
        "  return tree_model_copy"
      ],
      "metadata": {
        "id": "lV0GKj0Vqnnr"
      },
      "execution_count": null,
      "outputs": []
    },
    {
      "cell_type": "code",
      "source": [
        "from sklearn.tree import plot_tree\n",
        "\n",
        "models = [tree_model]\n",
        "\n",
        "target_predicted = tree_model.predict(data_test)\n",
        "accuracy_test = [accuracy_score(target_test, target_predicted)]\n",
        "\n",
        "target_predicted = tree_model.predict(data_train)\n",
        "accuracy_train = [accuracy_score(target_train, target_predicted)]\n",
        "\n",
        "depths = [tree_model.get_depth()]\n",
        "\n",
        "for i in range(1, tree_model.get_depth()+1):\n",
        "  m = prune(models[i-1], 1)\n",
        "  models.append(m)\n",
        "  depths.append(depths[i-1]-1)\n",
        "  target_predicted = m.predict(data_test)\n",
        "  accuracy_test.append(accuracy_score(target_test, target_predicted))\n",
        "  target_predicted = m.predict(data_train)\n",
        "  accuracy_train.append(accuracy_score(target_train, target_predicted))\n",
        "\n",
        "best_pruned_model = models[10]\n"
      ],
      "metadata": {
        "id": "yefUt77JrGOp"
      },
      "execution_count": null,
      "outputs": []
    },
    {
      "cell_type": "code",
      "source": [
        "import matplotlib.pyplot as plt\n",
        "\n",
        "plt.plot(depths, accuracy_test[::-1], label=\"Test\")\n",
        "plt.plot(depths, accuracy_train[::-1], label=\"Train\")\n",
        "\n",
        "plt.xlabel(\"Niveles podados\")\n",
        "plt.ylabel(\"Accuracy\")\n",
        "plt.title('Prunning')\n",
        "plt.legend()\n",
        "plt.show()"
      ],
      "metadata": {
        "colab": {
          "base_uri": "https://localhost:8080/",
          "height": 472
        },
        "id": "MyW2HUzizlVT",
        "outputId": "081a9d6c-abd3-48a3-9d32-b7555400c492"
      },
      "execution_count": null,
      "outputs": [
        {
          "output_type": "display_data",
          "data": {
            "text/plain": [
              "<Figure size 640x480 with 1 Axes>"
            ],
            "image/png": "[encoded data removed]"
          },
          "metadata": {}
        }
      ]
    },
    {
      "cell_type": "markdown",
      "source": [
        "## Evaluando los modelos anteriores"
      ],
      "metadata": {
        "id": "CRGo2bivXd7r"
      }
    },
    {
      "cell_type": "code",
      "source": [
        "from sklearn.metrics import precision_score\n",
        "\n",
        "target_predicted = final_model.predict(data_test)\n",
        "\n",
        "precision = precision_score(target_test, target_predicted, pos_label='good')\n",
        "\n",
        "print(\"El valor de precision obtenido es: {}\".format(precision))"
      ],
      "metadata": {
        "colab": {
          "base_uri": "https://localhost:8080/"
        },
        "id": "hSBeuSNET2P-",
        "outputId": "6354f28b-645d-4e2d-c7b9-52a774218175"
      },
      "execution_count": null,
      "outputs": [
        {
          "output_type": "stream",
          "name": "stdout",
          "text": [
            "El valor de precision obtenido es: 0.8493150684931506\n"
          ]
        }
      ]
    },
    {
      "cell_type": "code",
      "source": [
        "from sklearn.metrics import precision_score\n",
        "\n",
        "target_predicted = best_pruned_model.predict(data_test)\n",
        "\n",
        "precision = precision_score(target_test, target_predicted, pos_label='good')\n",
        "\n",
        "print(\"El valor de precision obtenido es: {}\".format(precision))"
      ],
      "metadata": {
        "colab": {
          "base_uri": "https://localhost:8080/"
        },
        "id": "O57dtsq6XY3E",
        "outputId": "916f4b6e-396e-4f5a-e3c0-4a1db9fcb3ac"
      },
      "execution_count": null,
      "outputs": [
        {
          "output_type": "stream",
          "name": "stdout",
          "text": [
            "El valor de precision obtenido es: 0.8421052631578947\n"
          ]
        }
      ]
    },
    {
      "cell_type": "markdown",
      "source": [
        "## Optimizando hiperparametros con GridSearch usando Precision"
      ],
      "metadata": {
        "id": "WOuAkc4Han0u"
      }
    },
    {
      "cell_type": "code",
      "source": [
        "from sklearn.model_selection import GridSearchCV\n",
        "from sklearn.metrics import precision_score, make_scorer\n",
        "custom_scorer = make_scorer(precision_score, greater_is_better=True,  pos_label='good')\n",
        "\n",
        "param_grid_p = {'max_depth' : range(20)[1:],\n",
        "              'min_samples_leaf': range(40)[1:],\n",
        "              'min_samples_split': range(20)[2:],\n",
        "              'criterion' :['gini', 'entropy']\n",
        "             }\n",
        "\n",
        "tree_clas = DecisionTreeClassifier()\n",
        "\n",
        "clf = GridSearchCV(estimator=tree_clas, param_grid=param_grid_p, scoring=custom_scorer)\n",
        "clf.fit(data_train, target_train)\n",
        "\n",
        "final_model_p = clf.best_estimator_\n",
        "\n",
        "print(clf.best_params_)"
      ],
      "metadata": {
        "colab": {
          "base_uri": "https://localhost:8080/"
        },
        "id": "nGyojrlsam7i",
        "outputId": "e266f058-cbb3-4f63-ad2f-0067ca1f6726"
      },
      "execution_count": null,
      "outputs": [
        {
          "output_type": "stream",
          "name": "stdout",
          "text": [
            "{'criterion': 'entropy', 'max_depth': 8, 'min_samples_leaf': 4, 'min_samples_split': 15}\n"
          ]
        }
      ]
    },
    {
      "cell_type": "code",
      "source": [
        "from sklearn.metrics import precision_score\n",
        "\n",
        "target_predicted = final_model_p.predict(data_test)\n",
        "\n",
        "precision = precision_score(target_test, target_predicted, pos_label='good')\n",
        "\n",
        "print(\"El valor de precision obtenido es: {}\".format(precision))"
      ],
      "metadata": {
        "colab": {
          "base_uri": "https://localhost:8080/"
        },
        "id": "mNPWhKCrjdhr",
        "outputId": "6a098caf-9054-42dd-f751-88115a80450f"
      },
      "execution_count": null,
      "outputs": [
        {
          "output_type": "stream",
          "name": "stdout",
          "text": [
            "El valor de precision obtenido es: 0.8205128205128205\n"
          ]
        }
      ]
    },
    {
      "cell_type": "code",
      "source": [
        "from sklearn.metrics import accuracy_score\n",
        "\n",
        "target_predicted = final_model_p.predict(data_test)\n",
        "\n",
        "accuracy = accuracy_score(target_test, target_predicted)\n",
        "\n",
        "print(\"El valor de accuracy obtenido es: {}\".format(accuracy))"
      ],
      "metadata": {
        "colab": {
          "base_uri": "https://localhost:8080/"
        },
        "id": "nDca7Eb8jsVH",
        "outputId": "86b8bd8f-114e-441b-db09-a31440890ded"
      },
      "execution_count": null,
      "outputs": [
        {
          "output_type": "stream",
          "name": "stdout",
          "text": [
            "El valor de accuracy obtenido es: 0.75\n"
          ]
        }
      ]
    },
    {
      "cell_type": "markdown",
      "source": [
        "## Prunning con precision"
      ],
      "metadata": {
        "id": "qbTepn1Bbkci"
      }
    },
    {
      "cell_type": "code",
      "source": [
        "from sklearn.tree import plot_tree\n",
        "\n",
        "models_p = [tree_model]\n",
        "\n",
        "target_predicted = tree_model.predict(data_test)\n",
        "precision_test = [precision_score(target_test, target_predicted, pos_label='good')]\n",
        "\n",
        "target_predicted = tree_model.predict(data_train)\n",
        "precision_train = [precision_score(target_train, target_predicted, pos_label='good')]\n",
        "\n",
        "depths_p = [tree_model.get_depth()]\n",
        "\n",
        "for i in range(1, tree_model.get_depth()+1):\n",
        "  m = prune(models_p[i-1], 1)\n",
        "  models_p.append(m)\n",
        "  depths_p.append(depths_p[i-1]-1)\n",
        "  target_predicted = m.predict(data_test)\n",
        "  precision_test.append(precision_score(target_test, target_predicted, pos_label='good'))\n",
        "  target_predicted = m.predict(data_train)\n",
        "  precision_train.append(precision_score(target_train, target_predicted, pos_label='good'))\n",
        "\n",
        "best_pruned_model_p = models_p[10]"
      ],
      "metadata": {
        "id": "Cq991iNDbjus"
      },
      "execution_count": null,
      "outputs": []
    },
    {
      "cell_type": "code",
      "source": [
        "import matplotlib.pyplot as plt\n",
        "\n",
        "plt.plot(depths_p, precision_test[::-1], label=\"Test\")\n",
        "plt.plot(depths_p, precision_train[::-1], label=\"Train\")\n",
        "\n",
        "plt.xlabel(\"Niveles podados\")\n",
        "plt.ylabel(\"Precision\")\n",
        "plt.title('Prunning')\n",
        "plt.legend()\n",
        "plt.show()"
      ],
      "metadata": {
        "colab": {
          "base_uri": "https://localhost:8080/",
          "height": 472
        },
        "id": "jgsSij2xbvab",
        "outputId": "07626ff7-7862-47c5-bd7d-0fea171439e9"
      },
      "execution_count": null,
      "outputs": [
        {
          "output_type": "display_data",
          "data": {
            "text/plain": [
              "<Figure size 640x480 with 1 Axes>"
            ],
            "image/png": "[encoded data removed]"
          },
          "metadata": {}
        }
      ]
    }
  ]
}